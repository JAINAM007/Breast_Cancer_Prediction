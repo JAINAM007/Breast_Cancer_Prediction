{
  "nbformat": 4,
  "nbformat_minor": 0,
  "metadata": {
    "colab": {
      "name": "Jainam_Random_Forest_Breast_Cancer.ipynb",
      "provenance": [],
      "collapsed_sections": []
    },
    "kernelspec": {
      "name": "python3",
      "display_name": "Python 3"
    },
    "language_info": {
      "name": "python"
    }
  },
  "cells": [
    {
      "cell_type": "code",
      "metadata": {
        "id": "ab_fUaYphT1c"
      },
      "source": [
        "from sklearn.ensemble import RandomForestClassifier\n",
        "import numpy as np\n",
        "import pandas as pd\n",
        "from sklearn.model_selection import train_test_split\n",
        "from sklearn.preprocessing import LabelEncoder\n",
        "from sklearn.metrics import accuracy_score\n",
        "\n",
        "# Importing data\n",
        "Cancer_Data = pd.read_csv('data.csv')\n",
        "Cancer_Data.drop(['Unnamed: 32','id'],axis = 1,inplace=True)\n",
        "label = LabelEncoder()\n",
        "Cancer_Data['diagnosis'] = label.fit_transform(Cancer_Data['diagnosis'])\n",
        "\n",
        "# Test and train 75% and 25% split \n",
        "X_train, X_test, y_train, y_test = train_test_split( Cancer_Data.drop('diagnosis', axis=1),Cancer_Data['diagnosis'], test_size=0.25, random_state=1)\n"
      ],
      "execution_count": 27,
      "outputs": []
    },
    {
      "cell_type": "code",
      "metadata": {
        "colab": {
          "base_uri": "https://localhost:8080/"
        },
        "id": "_ZH_f92mhWJ4",
        "outputId": "8d75a724-30a2-41ae-b259-a88d1b79acaf"
      },
      "source": [
        "Model = RandomForestClassifier(random_state=42)\n",
        "Model.fit(X_train, y_train)\n",
        "pred = Model.predict(X_test)\n",
        "ac_score = accuracy_score(y_test,pred)\n",
        "print(\"The Accuracy is : \",ac_score*100)"
      ],
      "execution_count": 28,
      "outputs": [
        {
          "output_type": "stream",
          "text": [
            "The Accuracy is :  95.1048951048951\n"
          ],
          "name": "stdout"
        }
      ]
    }
  ]
}