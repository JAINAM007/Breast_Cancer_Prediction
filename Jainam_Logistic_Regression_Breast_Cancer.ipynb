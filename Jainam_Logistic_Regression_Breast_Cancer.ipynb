{
  "nbformat": 4,
  "nbformat_minor": 0,
  "metadata": {
    "colab": {
      "name": "Jainam_Logistic_Regression_Breast_Cancer.ipynb",
      "provenance": [],
      "collapsed_sections": []
    },
    "kernelspec": {
      "name": "python3",
      "display_name": "Python 3"
    },
    "language_info": {
      "name": "python"
    }
  },
  "cells": [
    {
      "cell_type": "code",
      "metadata": {
        "id": "k7MizXovXX2A"
      },
      "source": [
        "from sklearn.linear_model import LogisticRegression\n",
        "import numpy as np\n",
        "import pandas as pd\n",
        "from sklearn.model_selection import train_test_split\n",
        "from sklearn.preprocessing import LabelEncoder\n",
        "from sklearn.metrics import accuracy_score\n",
        "\n",
        "# Importing data\n",
        "Cancer_Data = pd.read_csv('data.csv')\n",
        "Cancer_Data.drop(['Unnamed: 32','id'],axis = 1,inplace=True)\n",
        "label = LabelEncoder()\n",
        "Cancer_Data['diagnosis'] = label.fit_transform(Cancer_Data['diagnosis'])\n",
        "\n",
        "# Test and train 75% and 25% split \n",
        "X_train, X_test, y_train, y_test = train_test_split( Cancer_Data.drop('diagnosis', axis=1),Cancer_Data['diagnosis'], test_size=0.25, random_state=42)\n"
      ],
      "execution_count": 13,
      "outputs": []
    },
    {
      "cell_type": "code",
      "metadata": {
        "colab": {
          "base_uri": "https://localhost:8080/"
        },
        "id": "V7gf36RwXj2D",
        "outputId": "e36928a8-8553-45e7-a4c5-87b0c0959ad2"
      },
      "source": [
        "Model = LogisticRegression(random_state=0, max_iter=5000)\n",
        "Model.fit(X_train, y_train)\n",
        "pred = Model.predict(X_test)\n",
        "ac_score = accuracy_score(y_test,pred)\n",
        "print(\"The Accuracy is : \",ac_score*100)"
      ],
      "execution_count": 14,
      "outputs": [
        {
          "output_type": "stream",
          "text": [
            "The Accuracy is :  96.5034965034965\n"
          ],
          "name": "stdout"
        }
      ]
    }
  ]
}